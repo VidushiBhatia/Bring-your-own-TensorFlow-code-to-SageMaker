{
 "cells": [
  {
   "cell_type": "code",
   "execution_count": 1,
   "id": "e3230722",
   "metadata": {},
   "outputs": [
    {
     "name": "stdout",
     "output_type": "stream",
     "text": [
      "Reinitialized existing Git repository in /home/ec2-user/SageMaker/.git/\n"
     ]
    }
   ],
   "source": [
    "!git init"
   ]
  },
  {
   "cell_type": "code",
   "execution_count": 14,
   "id": "4fc78c5f",
   "metadata": {},
   "outputs": [
    {
     "name": "stdout",
     "output_type": "stream",
     "text": [
      "error: Cannot delete branch 'master' checked out at '/home/ec2-user/SageMaker'\n"
     ]
    }
   ],
   "source": [
    "!git branch -d master"
   ]
  },
  {
   "cell_type": "code",
   "execution_count": 16,
   "id": "bb4639d5",
   "metadata": {},
   "outputs": [
    {
     "name": "stdout",
     "output_type": "stream",
     "text": [
      "error: Your local changes to the following files would be overwritten by checkout:\n",
      "\tUntitled.ipynb\n",
      "Please commit your changes or stash them before you switch branches.\n",
      "Aborting\n"
     ]
    }
   ],
   "source": [
    "!git checkout main"
   ]
  },
  {
   "cell_type": "code",
   "execution_count": null,
   "id": "a69b87fd",
   "metadata": {},
   "outputs": [],
   "source": []
  }
 ],
 "metadata": {
  "kernelspec": {
   "display_name": "conda_python3",
   "language": "python",
   "name": "conda_python3"
  },
  "language_info": {
   "codemirror_mode": {
    "name": "ipython",
    "version": 3
   },
   "file_extension": ".py",
   "mimetype": "text/x-python",
   "name": "python",
   "nbconvert_exporter": "python",
   "pygments_lexer": "ipython3",
   "version": "3.6.13"
  }
 },
 "nbformat": 4,
 "nbformat_minor": 5
}
