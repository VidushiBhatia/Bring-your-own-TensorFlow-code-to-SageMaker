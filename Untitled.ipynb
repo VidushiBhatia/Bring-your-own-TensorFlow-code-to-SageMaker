{
 "cells": [
  {
   "cell_type": "code",
   "execution_count": 1,
   "id": "b3fe25e1",
   "metadata": {},
   "outputs": [
    {
     "name": "stdout",
     "output_type": "stream",
     "text": [
      "Reinitialized existing Git repository in /home/ec2-user/SageMaker/.git/\n"
     ]
    }
   ],
   "source": [
    "!git init"
   ]
  },
  {
   "cell_type": "code",
   "execution_count": 2,
   "id": "26ba4a83",
   "metadata": {},
   "outputs": [
    {
     "name": "stdout",
     "output_type": "stream",
     "text": [
      "* remote origin\n",
      "  Fetch URL: https://github.com/VidushiBhatia/Bring-your-own-TensorFlow-code-to-SageMaker\n",
      "  Push  URL: https://github.com/VidushiBhatia/Bring-your-own-TensorFlow-code-to-SageMaker\n",
      "  HEAD branch: main\n",
      "  Remote branch:\n",
      "    main tracked\n"
     ]
    }
   ],
   "source": [
    "!git remote show origin"
   ]
  },
  {
   "cell_type": "code",
   "execution_count": 7,
   "id": "3650e1f3",
   "metadata": {},
   "outputs": [
    {
     "name": "stdout",
     "output_type": "stream",
     "text": [
      "error: src refspec Train_Deploy_TensorFlow_code_in_SageMaker.ipynb does not match any.\n",
      "\u001b[31merror: failed to push some refs to 'https://github.com/VidushiBhatia/Bring-your-own-TensorFlow-code-to-SageMaker'\n",
      "\u001b[m"
     ]
    }
   ],
   "source": [
    "!git push -u origin Train_Deploy_TensorFlow_code_in_SageMaker.ipynb"
   ]
  },
  {
   "cell_type": "code",
   "execution_count": 4,
   "id": "41df3b2d",
   "metadata": {},
   "outputs": [
    {
     "name": "stdout",
     "output_type": "stream",
     "text": [
      "warning: could not open directory 'lost+found/': Permission denied\n"
     ]
    }
   ],
   "source": [
    "!git add Train & Deploy your own TensorFlow code in AWS SageMaker.ipynb"
   ]
  }
 ],
 "metadata": {
  "kernelspec": {
   "display_name": "conda_python3",
   "language": "python",
   "name": "conda_python3"
  },
  "language_info": {
   "codemirror_mode": {
    "name": "ipython",
    "version": 3
   },
   "file_extension": ".py",
   "mimetype": "text/x-python",
   "name": "python",
   "nbconvert_exporter": "python",
   "pygments_lexer": "ipython3",
   "version": "3.6.13"
  }
 },
 "nbformat": 4,
 "nbformat_minor": 5
}
